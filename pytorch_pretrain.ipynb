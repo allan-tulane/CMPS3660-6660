{
 "cells": [
  {
   "cell_type": "markdown",
   "metadata": {},
   "source": [
    "https://learnopencv.com/pytorch-for-beginners-image-classification-using-pre-trained-models/\n"
   ]
  },
  {
   "cell_type": "code",
   "execution_count": 1,
   "metadata": {},
   "outputs": [
    {
     "name": "stderr",
     "output_type": "stream",
     "text": [
      "/home/allan/anaconda3/envs/py3torch/lib/python3.8/site-packages/torchvision/models/_utils.py:208: UserWarning: The parameter 'pretrained' is deprecated since 0.13 and will be removed in 0.15, please use 'weights' instead.\n",
      "  warnings.warn(\n",
      "/home/allan/anaconda3/envs/py3torch/lib/python3.8/site-packages/torchvision/models/_utils.py:223: UserWarning: Arguments other than a weight enum or `None` for 'weights' are deprecated since 0.13 and will be removed in 0.15. The current behavior is equivalent to passing `weights=AlexNet_Weights.IMAGENET1K_V1`. You can also use `weights=AlexNet_Weights.DEFAULT` to get the most up-to-date weights.\n",
      "  warnings.warn(msg)\n",
      "/home/allan/anaconda3/envs/py3torch/lib/python3.8/site-packages/torchvision/models/_utils.py:223: UserWarning: Arguments other than a weight enum or `None` for 'weights' are deprecated since 0.13 and will be removed in 0.15. The current behavior is equivalent to passing `weights=VGG16_Weights.IMAGENET1K_V1`. You can also use `weights=VGG16_Weights.DEFAULT` to get the most up-to-date weights.\n",
      "  warnings.warn(msg)\n",
      "/home/allan/anaconda3/envs/py3torch/lib/python3.8/site-packages/torchvision/models/_utils.py:223: UserWarning: Arguments other than a weight enum or `None` for 'weights' are deprecated since 0.13 and will be removed in 0.15. The current behavior is equivalent to passing `weights=ResNet101_Weights.IMAGENET1K_V1`. You can also use `weights=ResNet101_Weights.DEFAULT` to get the most up-to-date weights.\n",
      "  warnings.warn(msg)\n",
      "Downloading: \"https://download.pytorch.org/models/resnet101-63fe2227.pth\" to /home/allan/.cache/torch/hub/checkpoints/resnet101-63fe2227.pth\n"
     ]
    },
    {
     "data": {
      "application/vnd.jupyter.widget-view+json": {
       "model_id": "0b0eaebab16342ecbc51b2564e955184",
       "version_major": 2,
       "version_minor": 0
      },
      "text/plain": [
       "  0%|          | 0.00/171M [00:00<?, ?B/s]"
      ]
     },
     "metadata": {},
     "output_type": "display_data"
    },
    {
     "name": "stdout",
     "output_type": "stream",
     "text": [
      "torch.Size([1, 1000])\n"
     ]
    }
   ],
   "source": [
    "import torchvision.models as models\n",
    "import torch\n",
    "\n",
    "alexnet = models.alexnet(pretrained=True)\n",
    "\n",
    "vgg16 = models.vgg16(pretrained=True)\n",
    "\n",
    "resnet = models.resnet101(pretrained=True)\n",
    "\n",
    "from torchvision import transforms\n",
    "transform = transforms.Compose([           \n",
    "                                transforms.Resize(256),                  \n",
    "                                transforms.CenterCrop(224),                \n",
    "                                transforms.ToTensor(),                  \n",
    "                                transforms.Normalize(                     \n",
    "                                mean=[0.485, 0.456, 0.406],              \n",
    "                                std=[0.229, 0.224, 0.225]           \n",
    "                                )])\n",
    "\n",
    "\n",
    "# Import Pillow\n",
    "from PIL import Image\n",
    "img = Image.open(\"dog.jpeg\")\n",
    "\n",
    "img_t = transform(img)\n",
    "batch_t = torch.unsqueeze(img_t, 0)\n",
    "\n",
    "alexnet.eval()\n",
    "\n",
    "out = alexnet(batch_t)\n",
    "print(out.shape)\n"
   ]
  }
 ],
 "metadata": {
  "kernelspec": {
   "display_name": "Python 3.8.13 ('py3torch')",
   "language": "python",
   "name": "python3"
  },
  "language_info": {
   "codemirror_mode": {
    "name": "ipython",
    "version": 3
   },
   "file_extension": ".py",
   "mimetype": "text/x-python",
   "name": "python",
   "nbconvert_exporter": "python",
   "pygments_lexer": "ipython3",
   "version": "3.8.13"
  },
  "orig_nbformat": 4,
  "vscode": {
   "interpreter": {
    "hash": "d38809b76120d20a1d3e1d897a4f47c1eaa6798af8e438a196de9dcce5e3189a"
   }
  }
 },
 "nbformat": 4,
 "nbformat_minor": 2
}
