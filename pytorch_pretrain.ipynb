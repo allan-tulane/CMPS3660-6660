{
 "cells": [
  {
   "cell_type": "markdown",
   "metadata": {},
   "source": [
    "https://learnopencv.com/pytorch-for-beginners-image-classification-using-pre-trained-models/\n"
   ]
  },
  {
   "cell_type": "code",
   "execution_count": 21,
   "metadata": {},
   "outputs": [],
   "source": [
    "import torchvision.models as models\n",
    "import torch\n",
    "\n",
    "alexnet = models.alexnet(pretrained=True)\n",
    "\n",
    "vgg16 = models.vgg16(pretrained=True)\n",
    "\n",
    "resnet = models.resnet101(pretrained=True)\n",
    "\n",
    "from torchvision import transforms\n",
    "transform = transforms.Compose([           \n",
    "                                transforms.Resize(256),                  \n",
    "                                transforms.CenterCrop(224),                \n",
    "                                transforms.ToTensor(),                  \n",
    "                                transforms.Normalize(                     \n",
    "                                mean=[0.485, 0.456, 0.406],              \n",
    "                                std=[0.229, 0.224, 0.225]           \n",
    "                                )])\n",
    "\n",
    "\n",
    "# Import Pillow\n",
    "from PIL import Image\n",
    "img = Image.open(\"dog.jpeg\")\n",
    "\n",
    "img_t = transform(img)\n",
    "batch_t = torch.unsqueeze(img_t, 0)\n",
    "\n",
    "alexnet.eval()\n",
    "\n",
    "resnet.eval()\n",
    "\n",
    "out = alexnet(batch_t)\n",
    "out2 = resnet(batch_t)\n"
   ]
  },
  {
   "cell_type": "code",
   "execution_count": 16,
   "metadata": {},
   "outputs": [],
   "source": [
    "with open('imagenet_classes.txt') as f:\n",
    "  labels = [line.strip() for line in f.readlines()]\n"
   ]
  },
  {
   "cell_type": "code",
   "execution_count": 22,
   "metadata": {},
   "outputs": [
    {
     "name": "stdout",
     "output_type": "stream",
     "text": [
      "208, Labrador_retriever 42.467342376708984\n",
      "208, Labrador_retriever 48.86914825439453\n"
     ]
    }
   ],
   "source": [
    "_, index = torch.max(out, 1)\n",
    " \n",
    "_, index2 = torch.max(out2, 1)\n",
    "\n",
    "percentage = torch.nn.functional.softmax(out, dim=1)[0] * 100\n",
    " \n",
    "percentage2 = torch.nn.functional.softmax(out2, dim=1)[0] * 100\n",
    "\n",
    "print(labels[index[0]], percentage[index[0]].item())\n",
    "\n",
    "print(labels[index2[0]], percentage2[index2[0]].item())"
   ]
  }
 ],
 "metadata": {
  "kernelspec": {
   "display_name": "Python 3.8.13 ('py3torch')",
   "language": "python",
   "name": "python3"
  },
  "language_info": {
   "codemirror_mode": {
    "name": "ipython",
    "version": 3
   },
   "file_extension": ".py",
   "mimetype": "text/x-python",
   "name": "python",
   "nbconvert_exporter": "python",
   "pygments_lexer": "ipython3",
   "version": "3.8.13"
  },
  "orig_nbformat": 4,
  "vscode": {
   "interpreter": {
    "hash": "d38809b76120d20a1d3e1d897a4f47c1eaa6798af8e438a196de9dcce5e3189a"
   }
  }
 },
 "nbformat": 4,
 "nbformat_minor": 2
}
