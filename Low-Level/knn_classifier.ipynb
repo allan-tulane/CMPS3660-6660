{
  "nbformat": 4,
  "nbformat_minor": 0,
  "metadata": {
    "colab": {
      "provenance": [],
      "collapsed_sections": []
    },
    "kernelspec": {
      "name": "python3",
      "display_name": "Python 3"
    },
    "language_info": {
      "name": "python"
    }
  },
  "cells": [
    {
      "cell_type": "code",
      "execution_count": 1,
      "metadata": {
        "colab": {
          "base_uri": "https://localhost:8080/",
          "height": 295
        },
        "id": "fFHIJxYbxApA",
        "outputId": "65d7d9f2-0eb6-414a-d94f-b761d99b2ad3"
      },
      "outputs": [
        {
          "output_type": "display_data",
          "data": {
            "text/plain": [
              "<Figure size 432x288 with 1 Axes>"
            ],
            "image/png": "[encoded data removed]"
          },
          "metadata": {
            "needs_background": "light"
          }
        }
      ],
      "source": [
        "import numpy as np\n",
        "import matplotlib.pyplot as plt\n",
        "from sklearn import datasets\n",
        "from sklearn.model_selection import train_test_split\n",
        "from sklearn.preprocessing import StandardScaler\n",
        "\n",
        "\n",
        "def most_common(lst):\n",
        "    return max(set(lst), key=lst.count)\n",
        "\n",
        "\n",
        "def euclidean(point, data):\n",
        "    # Euclidean distance between points a & data\n",
        "    return np.sqrt(np.sum((point - data)**2, axis=1))\n",
        "\n",
        "\n",
        "class KNeighborsClassifier:\n",
        "    def __init__(self, k=5, dist_metric=euclidean):\n",
        "        self.k = k\n",
        "        self.dist_metric = dist_metric\n",
        "\n",
        "    def fit(self, X_train, y_train):\n",
        "        self.X_train = X_train\n",
        "        self.y_train = y_train\n",
        "\n",
        "    def predict(self, X_test):\n",
        "        neighbors = []\n",
        "        for x in X_test:\n",
        "            distances = self.dist_metric(x, self.X_train)\n",
        "            y_sorted = [y for _, y in sorted(zip(distances, self.y_train))]\n",
        "            neighbors.append(y_sorted[:self.k])\n",
        "\n",
        "        return list(map(most_common, neighbors))\n",
        "\n",
        "    def evaluate(self, X_test, y_test):\n",
        "        y_pred = self.predict(X_test)\n",
        "        accuracy = sum(y_pred == y_test) / len(y_test)\n",
        "        return accuracy\n",
        "\n",
        "\n",
        "# Unpack the iris dataset, from UCI Machine Learning Repository\n",
        "iris = datasets.load_iris()\n",
        "X = iris['data']\n",
        "y = iris['target']\n",
        "\n",
        "# Split data into train & test sets\n",
        "X_train, X_test, y_train, y_test = train_test_split(X, y, test_size=0.2)\n",
        "\n",
        "# Preprocess data\n",
        "ss = StandardScaler().fit(X_train)\n",
        "X_train, X_test = ss.transform(X_train), ss.transform(X_test)\n",
        "\n",
        "# Test knn model across varying ks\n",
        "accuracies = []\n",
        "ks = range(1, 30)\n",
        "for k in ks:\n",
        "    knn = KNeighborsClassifier(k=k)\n",
        "    knn.fit(X_train, y_train)\n",
        "    accuracy = knn.evaluate(X_test, y_test)\n",
        "    accuracies.append(accuracy)\n",
        "\n",
        "# Visualize accuracy vs. k\n",
        "fig, ax = plt.subplots()\n",
        "ax.plot(ks, accuracies)\n",
        "ax.set(xlabel=\"k\",\n",
        "       ylabel=\"Accuracy\",\n",
        "       title=\"Performance of knn\")\n",
        "plt.show()\n",
        "\n"
      ]
    }
  ]
}
